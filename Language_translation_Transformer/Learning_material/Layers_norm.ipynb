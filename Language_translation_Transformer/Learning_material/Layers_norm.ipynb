{
 "cells": [
  {
   "cell_type": "code",
   "execution_count": 2,
   "metadata": {},
   "outputs": [],
   "source": [
    "import torch\n",
    "import torch.nn as nn"
   ]
  },
  {
   "cell_type": "code",
   "execution_count": 3,
   "metadata": {},
   "outputs": [
    {
     "name": "stdout",
     "output_type": "stream",
     "text": [
      "tensor([[[0.8341, 0.0153, 0.6267],\n",
      "         [0.5595, 0.5399, 0.5244]]])\n",
      "torch.Size([1, 2, 3])\n"
     ]
    },
    {
     "data": {
      "text/plain": [
       "(1, 2, 3)"
      ]
     },
     "execution_count": 3,
     "metadata": {},
     "output_type": "execute_result"
    }
   ],
   "source": [
    "random = torch.rand(1,2,3)\n",
    "print(random) , print(random.shape)\n",
    "b,s,e = random.size()\n",
    "b,s,e"
   ]
  },
  {
   "cell_type": "code",
   "execution_count": 4,
   "metadata": {},
   "outputs": [
    {
     "data": {
      "text/plain": [
       "torch.Size([2, 1, 3])"
      ]
     },
     "execution_count": 4,
     "metadata": {},
     "output_type": "execute_result"
    }
   ],
   "source": [
    "input = random.reshape(s,b,e)\n",
    "input.shape"
   ]
  },
  {
   "cell_type": "code",
   "execution_count": 5,
   "metadata": {},
   "outputs": [
    {
     "data": {
      "text/plain": [
       "torch.Size([1, 3])"
      ]
     },
     "execution_count": 5,
     "metadata": {},
     "output_type": "execute_result"
    }
   ],
   "source": [
    "parameter_shape = input.size()[-2:]\n",
    "parameter_shape"
   ]
  },
  {
   "cell_type": "code",
   "execution_count": 6,
   "metadata": {},
   "outputs": [
    {
     "data": {
      "text/plain": [
       "(tensor([[1., 1., 1.]]),\n",
       " torch.Size([1, 3]),\n",
       " tensor([[0., 0., 0.]]),\n",
       " torch.Size([1, 3]))"
      ]
     },
     "execution_count": 6,
     "metadata": {},
     "output_type": "execute_result"
    }
   ],
   "source": [
    "gamma = torch.ones(parameter_shape)\n",
    "beta = torch.zeros(parameter_shape)\n",
    "gamma,gamma.shape,beta,beta.shape"
   ]
  },
  {
   "cell_type": "code",
   "execution_count": 7,
   "metadata": {},
   "outputs": [
    {
     "data": {
      "text/plain": [
       "2"
      ]
     },
     "execution_count": 7,
     "metadata": {},
     "output_type": "execute_result"
    }
   ],
   "source": [
    "len(parameter_shape)"
   ]
  },
  {
   "cell_type": "code",
   "execution_count": 8,
   "metadata": {},
   "outputs": [
    {
     "data": {
      "text/plain": [
       "[-1, -2]"
      ]
     },
     "execution_count": 8,
     "metadata": {},
     "output_type": "execute_result"
    }
   ],
   "source": [
    "dims = [-(i+1) for i in range(len(parameter_shape))]\n",
    "dims"
   ]
  },
  {
   "cell_type": "markdown",
   "metadata": {},
   "source": [
    "Varience:\n",
    "\n",
    "( \\sigma^2 ) is the population variance.\n",
    "\n",
    "( X_i ) represents each value in the population.\n",
    "\n",
    "( \\mu ) is the population mean.\n",
    "\n",
    "( N ) is the number of values in the population\n",
    "\n",
    "$$\n",
    "\\text{σ2} = ∑\\bigg(\\frac{(Xi​−μ)^2}{\\N}\\bigg)\n",
    "$$"
   ]
  },
  {
   "cell_type": "code",
   "execution_count": null,
   "metadata": {},
   "outputs": [],
   "source": []
  },
  {
   "cell_type": "code",
   "execution_count": 9,
   "metadata": {},
   "outputs": [],
   "source": [
    "Pop_mean = input.mean(dim=dims,keepdim=True)"
   ]
  },
  {
   "cell_type": "code",
   "execution_count": 10,
   "metadata": {},
   "outputs": [
    {
     "data": {
      "text/plain": [
       "(tensor([[[0.4920]],\n",
       " \n",
       "         [[0.5413]]]),\n",
       " torch.Size([2, 1, 1]),\n",
       " tensor([[[0.8341, 0.0153, 0.6267]],\n",
       " \n",
       "         [[0.5595, 0.5399, 0.5244]]]))"
      ]
     },
     "execution_count": 10,
     "metadata": {},
     "output_type": "execute_result"
    }
   ],
   "source": [
    "Pop_mean,Pop_mean.shape,input"
   ]
  },
  {
   "cell_type": "code",
   "execution_count": 11,
   "metadata": {},
   "outputs": [],
   "source": [
    "a = (0.1732-0.4662)**2 + (0.4606-0.4662)**2 +(0.7647-0.4662)**2"
   ]
  },
  {
   "cell_type": "code",
   "execution_count": 12,
   "metadata": {},
   "outputs": [
    {
     "data": {
      "text/plain": [
       "0.05832753666666668"
      ]
     },
     "execution_count": 12,
     "metadata": {},
     "output_type": "execute_result"
    }
   ],
   "source": [
    "a/3"
   ]
  },
  {
   "cell_type": "code",
   "execution_count": 13,
   "metadata": {},
   "outputs": [
    {
     "data": {
      "text/plain": [
       "tensor([[[0.1208]],\n",
       "\n",
       "        [[0.0002]]])"
      ]
     },
     "execution_count": 13,
     "metadata": {},
     "output_type": "execute_result"
    }
   ],
   "source": [
    "var = ((input-Pop_mean)**2).mean(dim=dims,keepdim=True)\n",
    "var"
   ]
  },
  {
   "cell_type": "code",
   "execution_count": 14,
   "metadata": {},
   "outputs": [
    {
     "data": {
      "text/plain": [
       "tensor([[[0.3476]],\n",
       "\n",
       "        [[0.0147]]])"
      ]
     },
     "execution_count": 14,
     "metadata": {},
     "output_type": "execute_result"
    }
   ],
   "source": [
    "epsilon = 1e-5\n",
    "std = (var+epsilon).sqrt()\n",
    "std"
   ]
  },
  {
   "cell_type": "code",
   "execution_count": 15,
   "metadata": {},
   "outputs": [
    {
     "data": {
      "text/plain": [
       "tensor([[[ 0.9842, -1.3715,  0.3874]],\n",
       "\n",
       "        [[ 1.2399, -0.0932, -1.1467]]])"
      ]
     },
     "execution_count": 15,
     "metadata": {},
     "output_type": "execute_result"
    }
   ],
   "source": [
    "y = (input-Pop_mean)/std\n",
    "y"
   ]
  },
  {
   "cell_type": "code",
   "execution_count": 16,
   "metadata": {},
   "outputs": [],
   "source": [
    "out = y*gamma + beta"
   ]
  },
  {
   "cell_type": "code",
   "execution_count": 17,
   "metadata": {},
   "outputs": [
    {
     "data": {
      "text/plain": [
       "tensor([[[ 0.9842, -1.3715,  0.3874]],\n",
       "\n",
       "        [[ 1.2399, -0.0932, -1.1467]]])"
      ]
     },
     "execution_count": 17,
     "metadata": {},
     "output_type": "execute_result"
    }
   ],
   "source": [
    "out"
   ]
  },
  {
   "cell_type": "code",
   "execution_count": 18,
   "metadata": {},
   "outputs": [],
   "source": [
    "class Normalization():\n",
    "    def __init__(self,parameter_shape, epl= 1e-5):\n",
    "        self.parameter_shape = parameter_shape\n",
    "        self.epl = epl\n",
    "        self.gamma = nn.Parameter(torch.ones(parameter_shape))\n",
    "        self.beta = nn.Parameter(torch.zeros(parameter_shape))\n",
    "\n",
    "    def forward(self,sen):\n",
    "        dims = [-(i+1) for i in range(len(parameter_shape))]\n",
    "        print(len(dims))\n",
    "        pop_mean = sen.mean(dim=dims,keepdim=True)\n",
    "        print(pop_mean.shape),print(pop_mean)\n",
    "        var = ((sen-pop_mean)**2).mean(dim=dims,keepdim=True)\n",
    "        print(var.shape),print(var)\n",
    "        std = (var+self.epl).sqrt()\n",
    "        print(std.shape),print(std)\n",
    "        y = (sen-pop_mean)/std\n",
    "        print(y.shape)\n",
    "        out = y*self.gamma + self.beta\n",
    "\n",
    "        return out\n",
    "        \n"
   ]
  },
  {
   "cell_type": "code",
   "execution_count": null,
   "metadata": {},
   "outputs": [],
   "source": []
  },
  {
   "cell_type": "code",
   "execution_count": 19,
   "metadata": {},
   "outputs": [
    {
     "name": "stdout",
     "output_type": "stream",
     "text": [
      "input \n",
      " (torch.Size([5, 3, 8])) = \n",
      " tensor([[[ 1.0056,  0.3979,  2.2108, -0.6678, -0.4306,  0.1015, -0.7558,\n",
      "          -0.0436],\n",
      "         [ 0.0786, -0.3494,  0.9187,  1.7297,  1.7962, -0.6656,  0.4365,\n",
      "          -1.1339],\n",
      "         [ 1.3357,  1.2347,  0.6506,  0.6265, -0.0346,  1.9204,  0.4649,\n",
      "          -2.3551]],\n",
      "\n",
      "        [[-1.1411,  0.6284,  1.5744,  0.3169, -0.5679, -2.4647, -0.7900,\n",
      "          -1.1995],\n",
      "         [ 0.1288, -0.3861,  0.4700, -0.4184, -0.0500,  0.2301, -0.0606,\n",
      "           0.9324],\n",
      "         [-1.0688,  0.8302, -0.5264,  1.4820,  2.0900,  0.3958,  0.3762,\n",
      "          -0.2949]]])\n"
     ]
    }
   ],
   "source": [
    "batch_size = 3\n",
    "sentence_length = 5\n",
    "embedding_dim = 8 \n",
    "sen = torch.randn(sentence_length, batch_size, embedding_dim)\n",
    "\n",
    "print(f\"input \\n ({sen.size()}) = \\n {sen[:2][:][:]}\")"
   ]
  },
  {
   "cell_type": "code",
   "execution_count": 20,
   "metadata": {},
   "outputs": [
    {
     "data": {
      "text/plain": [
       "torch.Size([3, 8])"
      ]
     },
     "execution_count": 20,
     "metadata": {},
     "output_type": "execute_result"
    }
   ],
   "source": [
    "sen.size()[-2:]"
   ]
  },
  {
   "cell_type": "code",
   "execution_count": 21,
   "metadata": {},
   "outputs": [],
   "source": [
    "lay = Normalization(sen.size()[-1:])"
   ]
  },
  {
   "cell_type": "code",
   "execution_count": 22,
   "metadata": {},
   "outputs": [
    {
     "name": "stdout",
     "output_type": "stream",
     "text": [
      "2\n",
      "torch.Size([5, 1, 1])\n",
      "tensor([[[ 0.3530]],\n",
      "\n",
      "        [[ 0.0203]],\n",
      "\n",
      "        [[ 0.0836]],\n",
      "\n",
      "        [[-0.4199]],\n",
      "\n",
      "        [[-0.1264]]])\n",
      "torch.Size([5, 1, 1])\n",
      "tensor([[[1.1236]],\n",
      "\n",
      "        [[0.9698]],\n",
      "\n",
      "        [[0.9105]],\n",
      "\n",
      "        [[1.1261]],\n",
      "\n",
      "        [[1.0276]]])\n",
      "torch.Size([5, 1, 1])\n",
      "tensor([[[1.0600]],\n",
      "\n",
      "        [[0.9848]],\n",
      "\n",
      "        [[0.9542]],\n",
      "\n",
      "        [[1.0612]],\n",
      "\n",
      "        [[1.0137]]])\n",
      "torch.Size([5, 3, 8])\n"
     ]
    },
    {
     "data": {
      "text/plain": [
       "torch.Size([5, 3, 8])"
      ]
     },
     "execution_count": 22,
     "metadata": {},
     "output_type": "execute_result"
    }
   ],
   "source": [
    "new = lay.forward(sen)\n",
    "new.shape"
   ]
  },
  {
   "cell_type": "code",
   "execution_count": 23,
   "metadata": {},
   "outputs": [
    {
     "data": {
      "text/plain": [
       "tensor([[[ 6.1571e-01,  4.2390e-02,  1.7526e+00, -9.6301e-01, -7.3925e-01,\n",
       "          -2.3727e-01, -1.0460e+00, -3.7414e-01],\n",
       "         [-2.5889e-01, -6.6258e-01,  5.3369e-01,  1.2988e+00,  1.3615e+00,\n",
       "          -9.6095e-01,  7.8742e-02, -1.4027e+00],\n",
       "         [ 9.2709e-01,  8.3174e-01,  2.8076e-01,  2.5804e-01, -3.6568e-01,\n",
       "           1.4786e+00,  1.0560e-01, -2.5547e+00]],\n",
       "\n",
       "        [[-1.1794e+00,  6.1748e-01,  1.5781e+00,  3.0120e-01, -5.9729e-01,\n",
       "          -2.5233e+00, -8.2279e-01, -1.2387e+00],\n",
       "         [ 1.1019e-01, -4.1264e-01,  4.5667e-01, -4.4551e-01, -7.1321e-02,\n",
       "           2.1305e-01, -8.2142e-02,  9.2621e-01],\n",
       "         [-1.1059e+00,  8.2245e-01, -5.5510e-01,  1.4843e+00,  2.1017e+00,\n",
       "           3.8132e-01,  3.6146e-01, -3.2010e-01]],\n",
       "\n",
       "        [[-4.8278e-02, -5.3454e-01,  1.7954e+00,  1.6040e+00,  2.3403e+00,\n",
       "          -9.9651e-01,  1.1408e-01, -1.0976e-01],\n",
       "         [ 6.3714e-02, -2.8646e-01, -1.2872e+00, -1.2476e+00, -6.5542e-01,\n",
       "           4.5147e-01,  9.4858e-03,  7.1902e-01],\n",
       "         [-1.2145e+00, -8.2732e-01, -8.5971e-01,  1.9659e-01,  1.5574e-02,\n",
       "           1.7372e+00,  2.7377e-02, -1.0069e+00]],\n",
       "\n",
       "        [[-7.2724e-01, -1.8983e+00, -1.3546e-01,  2.0809e+00, -7.3808e-01,\n",
       "           1.4635e+00, -2.6681e-01, -6.9175e-01],\n",
       "         [-5.0666e-01,  3.8373e-01,  1.3764e+00,  2.8702e-01,  4.4027e-01,\n",
       "          -7.5780e-01,  1.0509e-01,  2.4725e-01],\n",
       "         [-2.5101e-03, -1.7838e+00,  1.2750e+00,  1.0161e+00, -7.3179e-02,\n",
       "          -1.4313e+00, -5.7643e-01,  9.1417e-01]],\n",
       "\n",
       "        [[ 4.8856e-01,  3.9490e-01,  1.4344e+00,  6.1734e-01,  8.6307e-01,\n",
       "          -1.4789e-01, -1.6221e-01, -1.9952e-03],\n",
       "         [ 1.1492e+00,  1.2149e+00, -2.6651e-01, -1.2653e+00, -9.8482e-01,\n",
       "          -2.0731e-01, -5.4896e-01,  7.4676e-01],\n",
       "         [ 1.6409e+00,  7.4699e-01, -4.4684e-01, -2.4205e+00, -1.5635e+00,\n",
       "           5.2824e-01, -1.3307e+00, -4.7872e-01]]], grad_fn=<AddBackward0>)"
      ]
     },
     "execution_count": 23,
     "metadata": {},
     "output_type": "execute_result"
    }
   ],
   "source": [
    "new"
   ]
  },
  {
   "cell_type": "code",
   "execution_count": null,
   "metadata": {},
   "outputs": [],
   "source": []
  }
 ],
 "metadata": {
  "kernelspec": {
   "display_name": "base",
   "language": "python",
   "name": "python3"
  },
  "language_info": {
   "codemirror_mode": {
    "name": "ipython",
    "version": 3
   },
   "file_extension": ".py",
   "mimetype": "text/x-python",
   "name": "python",
   "nbconvert_exporter": "python",
   "pygments_lexer": "ipython3",
   "version": "3.11.7"
  }
 },
 "nbformat": 4,
 "nbformat_minor": 2
}
