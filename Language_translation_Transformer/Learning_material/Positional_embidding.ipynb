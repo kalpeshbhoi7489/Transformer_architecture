{
 "cells": [
  {
   "cell_type": "code",
   "execution_count": 3,
   "metadata": {},
   "outputs": [],
   "source": [
    "import torch\n",
    "import torch.nn as nn"
   ]
  },
  {
   "cell_type": "markdown",
   "metadata": {},
   "source": [
    "$$\n",
    "PE(\\text{position}, 2i) = \\sin\\bigg( \\frac{ \\text{position} }{10000^\\frac{2i}{d_{model}}} \\bigg)\n",
    "$$\n",
    "\n",
    "$$\n",
    "PE(\\text{position}, 2i+1) = \\cos\\bigg( \\frac{ \\text{position} }{10000^\\frac{2i}{d_{model}}} \\bigg)\n",
    "$$\n",
    "\n",
    "We can rewrite these as\n",
    "\n",
    "$$\n",
    "PE(\\text{position}, i) = \\sin\\bigg( \\frac{ \\text{position} }{10000^\\frac{i}{d_{model}}} \\bigg) \\text{ when i is even}\n",
    "$$\n",
    "\n",
    "$$\n",
    "PE(\\text{position}, i) = \\cos\\bigg( \\frac{ \\text{position} }{10000^\\frac{i-1}{d_{model}}} \\bigg) \\text{ when i is odd}\n",
    "$$"
   ]
  },
  {
   "cell_type": "code",
   "execution_count": 4,
   "metadata": {},
   "outputs": [],
   "source": [
    "max_seq = 10\n",
    "d_model = 6\n"
   ]
  },
  {
   "cell_type": "code",
   "execution_count": 5,
   "metadata": {},
   "outputs": [
    {
     "data": {
      "text/plain": [
       "tensor([0, 2, 4])"
      ]
     },
     "execution_count": 5,
     "metadata": {},
     "output_type": "execute_result"
    }
   ],
   "source": [
    "even_idx = torch.arange(0,d_model,2)\n",
    "even_idx"
   ]
  },
  {
   "cell_type": "code",
   "execution_count": 6,
   "metadata": {},
   "outputs": [
    {
     "data": {
      "text/plain": [
       "tensor([  1.0000,  21.5443, 464.1590])"
      ]
     },
     "execution_count": 6,
     "metadata": {},
     "output_type": "execute_result"
    }
   ],
   "source": [
    "even_denominator = torch.pow(10000,(even_idx)/d_model).float()\n",
    "even_denominator"
   ]
  },
  {
   "cell_type": "code",
   "execution_count": 7,
   "metadata": {},
   "outputs": [
    {
     "data": {
      "text/plain": [
       "tensor([1, 3, 5])"
      ]
     },
     "execution_count": 7,
     "metadata": {},
     "output_type": "execute_result"
    }
   ],
   "source": [
    "odd_idx = torch.arange(1,d_model,2)\n",
    "odd_idx"
   ]
  },
  {
   "cell_type": "code",
   "execution_count": 8,
   "metadata": {},
   "outputs": [
    {
     "data": {
      "text/plain": [
       "tensor([  1.0000,  21.5443, 464.1590])"
      ]
     },
     "execution_count": 8,
     "metadata": {},
     "output_type": "execute_result"
    }
   ],
   "source": [
    "odd_denominator = torch.pow(10000,((odd_idx)-1)/d_model).float()\n",
    "odd_denominator"
   ]
  },
  {
   "cell_type": "code",
   "execution_count": 9,
   "metadata": {},
   "outputs": [
    {
     "data": {
      "text/plain": [
       "tensor([True, True, True])"
      ]
     },
     "execution_count": 9,
     "metadata": {},
     "output_type": "execute_result"
    }
   ],
   "source": [
    "odd_denominator == even_denominator"
   ]
  },
  {
   "cell_type": "code",
   "execution_count": 10,
   "metadata": {},
   "outputs": [],
   "source": [
    "denominator = even_denominator"
   ]
  },
  {
   "cell_type": "code",
   "execution_count": 15,
   "metadata": {},
   "outputs": [
    {
     "data": {
      "text/plain": [
       "tensor([[0.],\n",
       "        [1.],\n",
       "        [2.],\n",
       "        [3.],\n",
       "        [4.],\n",
       "        [5.],\n",
       "        [6.],\n",
       "        [7.],\n",
       "        [8.],\n",
       "        [9.]], dtype=torch.float64)"
      ]
     },
     "execution_count": 15,
     "metadata": {},
     "output_type": "execute_result"
    }
   ],
   "source": [
    "position = torch.arange(max_seq,dtype = torch.float64).reshape(max_seq,1)\n",
    "position"
   ]
  },
  {
   "cell_type": "code",
   "execution_count": 17,
   "metadata": {},
   "outputs": [],
   "source": [
    "even_pos = torch.sin(position/denominator)\n",
    "odd_pos = torch.cos(position/denominator)"
   ]
  },
  {
   "cell_type": "code",
   "execution_count": 18,
   "metadata": {},
   "outputs": [
    {
     "name": "stdout",
     "output_type": "stream",
     "text": [
      "torch.Size([10, 3])\n"
     ]
    },
    {
     "data": {
      "text/plain": [
       "tensor([[ 0.0000,  0.0000,  0.0000],\n",
       "        [ 0.8415,  0.0464,  0.0022],\n",
       "        [ 0.9093,  0.0927,  0.0043],\n",
       "        [ 0.1411,  0.1388,  0.0065],\n",
       "        [-0.7568,  0.1846,  0.0086],\n",
       "        [-0.9589,  0.2300,  0.0108],\n",
       "        [-0.2794,  0.2749,  0.0129],\n",
       "        [ 0.6570,  0.3192,  0.0151],\n",
       "        [ 0.9894,  0.3629,  0.0172],\n",
       "        [ 0.4121,  0.4057,  0.0194]], dtype=torch.float64)"
      ]
     },
     "execution_count": 18,
     "metadata": {},
     "output_type": "execute_result"
    }
   ],
   "source": [
    "print(even_pos.shape)\n",
    "even_pos"
   ]
  },
  {
   "cell_type": "code",
   "execution_count": 20,
   "metadata": {},
   "outputs": [
    {
     "name": "stdout",
     "output_type": "stream",
     "text": [
      "torch.Size([10, 3])\n"
     ]
    },
    {
     "data": {
      "text/plain": [
       "tensor([[ 1.0000,  1.0000,  1.0000],\n",
       "        [ 0.5403,  0.9989,  1.0000],\n",
       "        [-0.4161,  0.9957,  1.0000],\n",
       "        [-0.9900,  0.9903,  1.0000],\n",
       "        [-0.6536,  0.9828,  1.0000],\n",
       "        [ 0.2837,  0.9732,  0.9999],\n",
       "        [ 0.9602,  0.9615,  0.9999],\n",
       "        [ 0.7539,  0.9477,  0.9999],\n",
       "        [-0.1455,  0.9318,  0.9999],\n",
       "        [-0.9111,  0.9140,  0.9998]], dtype=torch.float64)"
      ]
     },
     "execution_count": 20,
     "metadata": {},
     "output_type": "execute_result"
    }
   ],
   "source": [
    "print(odd_pos.shape)\n",
    "odd_pos"
   ]
  },
  {
   "cell_type": "code",
   "execution_count": 30,
   "metadata": {},
   "outputs": [
    {
     "data": {
      "text/plain": [
       "(tensor([[[ 0.0000,  1.0000],\n",
       "          [ 0.0000,  1.0000],\n",
       "          [ 0.0000,  1.0000]],\n",
       " \n",
       "         [[ 0.8415,  0.5403],\n",
       "          [ 0.0464,  0.9989],\n",
       "          [ 0.0022,  1.0000]],\n",
       " \n",
       "         [[ 0.9093, -0.4161],\n",
       "          [ 0.0927,  0.9957],\n",
       "          [ 0.0043,  1.0000]],\n",
       " \n",
       "         [[ 0.1411, -0.9900],\n",
       "          [ 0.1388,  0.9903],\n",
       "          [ 0.0065,  1.0000]],\n",
       " \n",
       "         [[-0.7568, -0.6536],\n",
       "          [ 0.1846,  0.9828],\n",
       "          [ 0.0086,  1.0000]],\n",
       " \n",
       "         [[-0.9589,  0.2837],\n",
       "          [ 0.2300,  0.9732],\n",
       "          [ 0.0108,  0.9999]],\n",
       " \n",
       "         [[-0.2794,  0.9602],\n",
       "          [ 0.2749,  0.9615],\n",
       "          [ 0.0129,  0.9999]],\n",
       " \n",
       "         [[ 0.6570,  0.7539],\n",
       "          [ 0.3192,  0.9477],\n",
       "          [ 0.0151,  0.9999]],\n",
       " \n",
       "         [[ 0.9894, -0.1455],\n",
       "          [ 0.3629,  0.9318],\n",
       "          [ 0.0172,  0.9999]],\n",
       " \n",
       "         [[ 0.4121, -0.9111],\n",
       "          [ 0.4057,  0.9140],\n",
       "          [ 0.0194,  0.9998]]], dtype=torch.float64),\n",
       " torch.Size([10, 3, 2]))"
      ]
     },
     "execution_count": 30,
     "metadata": {},
     "output_type": "execute_result"
    }
   ],
   "source": [
    "stacked = torch.stack([even_pos,odd_pos],dim=2)\n",
    "stacked,stacked.shape"
   ]
  },
  {
   "cell_type": "code",
   "execution_count": 32,
   "metadata": {},
   "outputs": [
    {
     "data": {
      "text/plain": [
       "(torch.Size([10, 6]),\n",
       " tensor([[ 0.0000,  1.0000,  0.0000,  1.0000,  0.0000,  1.0000],\n",
       "         [ 0.8415,  0.5403,  0.0464,  0.9989,  0.0022,  1.0000],\n",
       "         [ 0.9093, -0.4161,  0.0927,  0.9957,  0.0043,  1.0000],\n",
       "         [ 0.1411, -0.9900,  0.1388,  0.9903,  0.0065,  1.0000],\n",
       "         [-0.7568, -0.6536,  0.1846,  0.9828,  0.0086,  1.0000],\n",
       "         [-0.9589,  0.2837,  0.2300,  0.9732,  0.0108,  0.9999],\n",
       "         [-0.2794,  0.9602,  0.2749,  0.9615,  0.0129,  0.9999],\n",
       "         [ 0.6570,  0.7539,  0.3192,  0.9477,  0.0151,  0.9999],\n",
       "         [ 0.9894, -0.1455,  0.3629,  0.9318,  0.0172,  0.9999],\n",
       "         [ 0.4121, -0.9111,  0.4057,  0.9140,  0.0194,  0.9998]],\n",
       "        dtype=torch.float64))"
      ]
     },
     "execution_count": 32,
     "metadata": {},
     "output_type": "execute_result"
    }
   ],
   "source": [
    "pos_emb = torch.flatten(stacked,start_dim=1,end_dim=2)\n",
    "pos_emb.shape,pos_emb"
   ]
  },
  {
   "cell_type": "code",
   "execution_count": 74,
   "metadata": {},
   "outputs": [],
   "source": [
    "class Positional_embeddings(nn.Module):\n",
    "    def __init__(self,d_model,max_seq_len):\n",
    "        self.d_model = d_model\n",
    "        self.max_seq_len = max_seq_len\n",
    "\n",
    "    def forward(self):\n",
    "        even_idx = torch.arange(0,self.d_model,2)\n",
    "        # odd_idx = torch.arange(1,d_model,2)\n",
    "        denominator = torch.pow(10000,even_idx/d_model)\n",
    "        # print(denominator)\n",
    "        pos = torch.arange(self.max_seq_len,dtype=torch.float64).reshape(self.max_seq_len,1)\n",
    "        # print(pos)\n",
    "        even_pe = torch.sin(pos/denominator)\n",
    "        # print(even_pe)\n",
    "        odd_pe = torch.cos(pos/denominator)\n",
    "        # print(odd_pe)\n",
    "        stacked = torch.stack([even_pe,odd_pe],dim=2)\n",
    "        # print(stacked)\n",
    "        PE = torch.flatten(stacked,start_dim=1,end_dim=2)\n",
    "\n",
    "        return PE"
   ]
  },
  {
   "cell_type": "code",
   "execution_count": 77,
   "metadata": {},
   "outputs": [],
   "source": [
    "postion_em = Positional_embeddings(d_model=512,max_seq_len=200)"
   ]
  },
  {
   "cell_type": "code",
   "execution_count": 78,
   "metadata": {},
   "outputs": [
    {
     "data": {
      "text/plain": [
       "tensor([[ 0.0000,  1.0000,  0.0000,  ...,  1.0000,  0.0000,  1.0000],\n",
       "        [ 0.8415,  0.5403,  0.0464,  ...,  1.0000,  0.0000,  1.0000],\n",
       "        [ 0.9093, -0.4161,  0.0927,  ...,  1.0000,  0.0000,  1.0000],\n",
       "        ...,\n",
       "        [ 0.7958, -0.6056,  0.2772,  ...,  1.0000,  0.0000,  1.0000],\n",
       "        [-0.0796, -0.9968,  0.2323,  ...,  1.0000,  0.0000,  1.0000],\n",
       "        [-0.8818, -0.4716,  0.1869,  ...,  1.0000,  0.0000,  1.0000]],\n",
       "       dtype=torch.float64)"
      ]
     },
     "execution_count": 78,
     "metadata": {},
     "output_type": "execute_result"
    }
   ],
   "source": [
    "postion_em.forward()"
   ]
  },
  {
   "cell_type": "code",
   "execution_count": null,
   "metadata": {},
   "outputs": [],
   "source": []
  }
 ],
 "metadata": {
  "kernelspec": {
   "display_name": "base",
   "language": "python",
   "name": "python3"
  },
  "language_info": {
   "codemirror_mode": {
    "name": "ipython",
    "version": 3
   },
   "file_extension": ".py",
   "mimetype": "text/x-python",
   "name": "python",
   "nbconvert_exporter": "python",
   "pygments_lexer": "ipython3",
   "version": "3.11.7"
  }
 },
 "nbformat": 4,
 "nbformat_minor": 2
}
